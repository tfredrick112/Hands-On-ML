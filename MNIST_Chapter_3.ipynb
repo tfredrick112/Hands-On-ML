{
  "nbformat": 4,
  "nbformat_minor": 0,
  "metadata": {
    "colab": {
      "name": "MNIST - Chapter 3.ipynb",
      "provenance": [],
      "collapsed_sections": [],
      "authorship_tag": "ABX9TyMQioHNXQM7fp6LkLkpmuWF",
      "include_colab_link": true
    },
    "kernelspec": {
      "name": "python3",
      "display_name": "Python 3"
    },
    "accelerator": "GPU"
  },
  "cells": [
    {
      "cell_type": "markdown",
      "metadata": {
        "id": "view-in-github",
        "colab_type": "text"
      },
      "source": [
        "<a href=\"https://colab.research.google.com/github/tfredrick112/Hands-On-ML/blob/master/MNIST_Chapter_3.ipynb\" target=\"_parent\"><img src=\"https://colab.research.google.com/assets/colab-badge.svg\" alt=\"Open In Colab\"/></a>"
      ]
    },
    {
      "cell_type": "markdown",
      "metadata": {
        "id": "K7XOO8FlIi2C",
        "colab_type": "text"
      },
      "source": [
        "# MNIST Digits Classification - Chapter 3 Hands-On ML"
      ]
    },
    {
      "cell_type": "code",
      "metadata": {
        "id": "FaxuRl94IVc6",
        "colab_type": "code",
        "outputId": "49c74574-cce9-4039-8ce2-1e5440b55fe3",
        "colab": {
          "base_uri": "https://localhost:8080/",
          "height": 306
        }
      },
      "source": [
        "!nvidia-smi"
      ],
      "execution_count": 1,
      "outputs": [
        {
          "output_type": "stream",
          "text": [
            "Tue Jan 28 17:16:06 2020       \n",
            "+-----------------------------------------------------------------------------+\n",
            "| NVIDIA-SMI 440.44       Driver Version: 418.67       CUDA Version: 10.1     |\n",
            "|-------------------------------+----------------------+----------------------+\n",
            "| GPU  Name        Persistence-M| Bus-Id        Disp.A | Volatile Uncorr. ECC |\n",
            "| Fan  Temp  Perf  Pwr:Usage/Cap|         Memory-Usage | GPU-Util  Compute M. |\n",
            "|===============================+======================+======================|\n",
            "|   0  Tesla T4            Off  | 00000000:00:04.0 Off |                    0 |\n",
            "| N/A   68C    P8    11W /  70W |      0MiB / 15079MiB |      0%      Default |\n",
            "+-------------------------------+----------------------+----------------------+\n",
            "                                                                               \n",
            "+-----------------------------------------------------------------------------+\n",
            "| Processes:                                                       GPU Memory |\n",
            "|  GPU       PID   Type   Process name                             Usage      |\n",
            "|=============================================================================|\n",
            "|  No running processes found                                                 |\n",
            "+-----------------------------------------------------------------------------+\n"
          ],
          "name": "stdout"
        }
      ]
    },
    {
      "cell_type": "code",
      "metadata": {
        "id": "rimjOJuGHSIi",
        "colab_type": "code",
        "colab": {}
      },
      "source": [
        "import numpy as np\n",
        "import pandas as pd\n",
        "\n",
        "# to keep the output consistent across several runs\n",
        "np.random.seed(42)\n",
        "\n",
        "# to print nicely labelled plots\n",
        "import matplotlib.pyplot as plt\n",
        "import matplotlib as mpl\n",
        "mpl.rc('axes', labelsize=14)\n",
        "mpl.rc('xtick', labelsize=12)\n",
        "mpl.rc('ytick', labelsize=12)"
      ],
      "execution_count": 0,
      "outputs": []
    },
    {
      "cell_type": "code",
      "metadata": {
        "id": "8_rQKbhXIa48",
        "colab_type": "code",
        "outputId": "96bb048a-adf9-4871-ec8b-aaba54317ddf",
        "colab": {
          "base_uri": "https://localhost:8080/",
          "height": 34
        }
      },
      "source": [
        "from sklearn.datasets import fetch_openml\n",
        "mnist = fetch_openml('mnist_784', version=1)\n",
        "print(mnist.keys())"
      ],
      "execution_count": 3,
      "outputs": [
        {
          "output_type": "stream",
          "text": [
            "dict_keys(['data', 'target', 'frame', 'feature_names', 'target_names', 'DESCR', 'details', 'categories', 'url'])\n"
          ],
          "name": "stdout"
        }
      ]
    },
    {
      "cell_type": "markdown",
      "metadata": {
        "id": "tLotTovKMgFq",
        "colab_type": "text"
      },
      "source": [
        "The image vectors can be found in mnist['data'] and their labels will be in mnist['target']. \n",
        "\n",
        "The first 60,000 images are training data and the remaining 10,000 are test data."
      ]
    },
    {
      "cell_type": "code",
      "metadata": {
        "id": "mDSjZPa5MQlr",
        "colab_type": "code",
        "outputId": "ccd4524f-32e7-4b22-fef4-ed6b90b16e7c",
        "colab": {
          "base_uri": "https://localhost:8080/",
          "height": 51
        }
      },
      "source": [
        "X = mnist['data']\n",
        "y = mnist['target']\n",
        "y = y.astype(np.uint8)\n",
        "\n",
        "print(\"Shape of the data matrix: \", X.shape)\n",
        "print(\"Shape of the labels matrix: \", y.shape)\n",
        "\n",
        "X_train = X[:60000]\n",
        "y_train = y[:60000]\n",
        "X_test = X[60000:]\n",
        "y_test = y[60000:]"
      ],
      "execution_count": 4,
      "outputs": [
        {
          "output_type": "stream",
          "text": [
            "Shape of the data matrix:  (70000, 784)\n",
            "Shape of the labels matrix:  (70000,)\n"
          ],
          "name": "stdout"
        }
      ]
    },
    {
      "cell_type": "markdown",
      "metadata": {
        "id": "fTcc7GR5N7ff",
        "colab_type": "text"
      },
      "source": [
        "Here are some example images from the training set."
      ]
    },
    {
      "cell_type": "code",
      "metadata": {
        "id": "-a_4rVjVNT38",
        "colab_type": "code",
        "outputId": "9883a090-e865-4be1-f6ad-1d61c0a70d5e",
        "colab": {
          "base_uri": "https://localhost:8080/",
          "height": 297
        }
      },
      "source": [
        "import random\n",
        "random.seed(45)\n",
        "indices = random.sample(range(60000), 9)\n",
        "for i in range(len(indices)):\n",
        "  plt.subplot(3, 3, i + 1)\n",
        "  plt.imshow(X_train[indices[i]].reshape(28, 28))\n",
        "  plt.title(\"Label: {}\".format(y_train[indices[i]]))\n",
        "  plt.xticks([])\n",
        "  plt.yticks([])\n",
        "plt.tight_layout()\n",
        "plt.show()"
      ],
      "execution_count": 5,
      "outputs": [
        {
          "output_type": "display_data",
          "data": {
            "image/png": "[encoded data removed]",
            "text/plain": [
              "<Figure size 432x288 with 9 Axes>"
            ]
          },
          "metadata": {
            "tags": []
          }
        }
      ]
    },
    {
      "cell_type": "code",
      "metadata": {
        "id": "sGsxOSS4QAqU",
        "colab_type": "code",
        "outputId": "7b86d193-bda3-44c1-de09-5a8ca0b339be",
        "colab": {
          "base_uri": "https://localhost:8080/",
          "height": 268
        }
      },
      "source": [
        "ind = indices[-1]\n",
        "plt.imshow(X_train[ind].reshape(28, 28))\n",
        "plt.title(\"Label: {}\".format(y_train[ind]))\n",
        "plt.xticks([])\n",
        "plt.yticks([])\n",
        "plt.show()\n",
        "\n",
        "chosen_digit = y_train[ind]"
      ],
      "execution_count": 6,
      "outputs": [
        {
          "output_type": "display_data",
          "data": {
            "image/png": "[encoded data removed]",
            "text/plain": [
              "<Figure size 432x288 with 1 Axes>"
            ]
          },
          "metadata": {
            "tags": []
          }
        }
      ]
    },
    {
      "cell_type": "markdown",
      "metadata": {
        "id": "yc0ucpq5Rwee",
        "colab_type": "text"
      },
      "source": [
        "### Binary Classifier\n",
        "\n",
        "I will first use the Stochastic Gradient Descent classifier to build a binary classifier that will decide whether a given image is a \"3\" or not. I will use cross validation to check the accuracy on the cross validation sets."
      ]
    },
    {
      "cell_type": "code",
      "metadata": {
        "id": "B-W-RwaKRn-9",
        "colab_type": "code",
        "outputId": "5a5bc730-2413-4f25-bd8b-ce485afca072",
        "colab": {
          "base_uri": "https://localhost:8080/",
          "height": 34
        }
      },
      "source": [
        "from sklearn.linear_model import SGDClassifier\n",
        "from sklearn.model_selection import cross_val_score\n",
        "\n",
        "sgd_clf = SGDClassifier(random_state=42)\n",
        "\n",
        "# special label sets (True or False) for the binary classifier\n",
        "y_train_3 = (y_train == chosen_digit)\n",
        "y_test_3 = (y_test == chosen_digit)\n",
        "\n",
        "sgd_clf.fit(X_train, y_train_3)\n",
        "sgd_scores = cross_val_score(sgd_clf, X_train, y_train_3, cv=3, scoring='accuracy')\n",
        "print(\"Cross validation scores = {}\".format(sgd_scores))"
      ],
      "execution_count": 7,
      "outputs": [
        {
          "output_type": "stream",
          "text": [
            "Cross validation scores = [0.9496  0.9624  0.96275]\n"
          ],
          "name": "stdout"
        }
      ]
    },
    {
      "cell_type": "markdown",
      "metadata": {
        "id": "XimwEKt5dKhq",
        "colab_type": "text"
      },
      "source": [
        "The cv scores are all very high, but this could also be because of the bias in the dataset. Since each number makes up for around 10% of the total images, if our classifier just predicted \"not 3\" for all the images, we would easily get around 90% (actually even greater) accuracy. It is easy to demonstrate this."
      ]
    },
    {
      "cell_type": "code",
      "metadata": {
        "id": "q8PsCAx1Sers",
        "colab_type": "code",
        "outputId": "d57d6b1e-0a4b-4d68-d6f6-aff24dffb72d",
        "colab": {
          "base_uri": "https://localhost:8080/",
          "height": 34
        }
      },
      "source": [
        "from sklearn.base import BaseEstimator\n",
        "\n",
        "class Not3Classifier(BaseEstimator):\n",
        "  def fit(self, X, y=None):\n",
        "    pass\n",
        "  def predict(self, X):\n",
        "    return np.zeros((len(X), 1), dtype=bool)\n",
        "\n",
        "not3_clf = Not3Classifier()\n",
        "not3_clf.fit(X_train, y_train_3)\n",
        "\n",
        "not3_scores = cross_val_score(not3_clf, X_train, y_train_3, cv=3, scoring='accuracy')\n",
        "print(\"Cross validation scores = {}\".format(not3_scores))"
      ],
      "execution_count": 8,
      "outputs": [
        {
          "output_type": "stream",
          "text": [
            "Cross validation scores = [0.8962  0.89975 0.8975 ]\n"
          ],
          "name": "stdout"
        }
      ]
    },
    {
      "cell_type": "markdown",
      "metadata": {
        "id": "IvuS3RJbfej-",
        "colab_type": "text"
      },
      "source": [
        "As expected, the scores are close to 90%. This is bad, because our classifier is a very naive one, it just predicts \"not 3\" for every example."
      ]
    },
    {
      "cell_type": "markdown",
      "metadata": {
        "id": "_TF2qC44j9uo",
        "colab_type": "text"
      },
      "source": [
        "### Confusion Matrix\n",
        "\n"
      ]
    },
    {
      "cell_type": "code",
      "metadata": {
        "id": "1l1jBv6ZfcX7",
        "colab_type": "code",
        "outputId": "89503e9d-e128-418b-8f57-2688435dc258",
        "colab": {
          "base_uri": "https://localhost:8080/",
          "height": 337
        }
      },
      "source": [
        "from sklearn.model_selection import cross_val_predict\n",
        "from sklearn.metrics import confusion_matrix, plot_confusion_matrix\n",
        "\n",
        "predictions = cross_val_predict(sgd_clf, X_train, y_train_3, cv=3)\n",
        "print(confusion_matrix(y_train_3, predictions))\n",
        "plot_confusion_matrix(sgd_clf, X_train, y_train_3, values_format='g')\n",
        "# values_format = 'g' ensures that numbers are nor printed in scientific notation"
      ],
      "execution_count": 9,
      "outputs": [
        {
          "output_type": "stream",
          "text": [
            "[[53477   392]\n",
            " [ 2113  4018]]\n"
          ],
          "name": "stdout"
        },
        {
          "output_type": "execute_result",
          "data": {
            "text/plain": [
              "<sklearn.metrics._plot.confusion_matrix.ConfusionMatrixDisplay at 0x7f660c947d30>"
            ]
          },
          "metadata": {
            "tags": []
          },
          "execution_count": 9
        },
        {
          "output_type": "display_data",
          "data": {
            "image/png": "[encoded data removed]",
            "text/plain": [
              "<Figure size 432x288 with 2 Axes>"
            ]
          },
          "metadata": {
            "tags": []
          }
        }
      ]
    },
    {
      "cell_type": "markdown",
      "metadata": {
        "id": "XcVpVpoVk17j",
        "colab_type": "text"
      },
      "source": [
        "The above matrix can be interpreted as:\n",
        "* Top left square: True Negatives, images for which the actual class is \"not 3\" and the predicted class is also \"not 3\".\n",
        "* Bottom left square: False Negative, images where the actual class is \"3\", but we predicted a \"not 3\".\n",
        "* Top right: False Positives, image is actually a \"not 3\", but we predicted \"3\".\n",
        "* Bottom right: True Positive, image is \"3\", and we predicted \"3\"."
      ]
    },
    {
      "cell_type": "code",
      "metadata": {
        "id": "u_Pu5SoPi5wZ",
        "colab_type": "code",
        "outputId": "8412d9b9-53fa-4cd5-d2fb-1ac4c2c23b2b",
        "colab": {
          "base_uri": "https://localhost:8080/",
          "height": 85
        }
      },
      "source": [
        "from sklearn.metrics import precision_score, recall_score, f1_score\n",
        "print(\"Metrics calculated using the inbuilt functions:\")\n",
        "print(\"Precision : \", precision_score(y_train_3, predictions))\n",
        "print(\"Recall : \", recall_score(y_train_3, predictions))\n",
        "print(\"F1 score : \", f1_score(y_train_3, predictions))"
      ],
      "execution_count": 10,
      "outputs": [
        {
          "output_type": "stream",
          "text": [
            "Metrics calculated using the inbuilt functions:\n",
            "Precision :  0.9111111111111111\n",
            "Recall :  0.655358016636764\n",
            "F1 score :  0.7623565126648326\n"
          ],
          "name": "stdout"
        }
      ]
    },
    {
      "cell_type": "markdown",
      "metadata": {
        "id": "YIRYb0xRsS_i",
        "colab_type": "text"
      },
      "source": [
        "The precision tells us that when the model predicts that an image is a 5, it does so with 91.11% accuracy, and the recall tells us that it is identifying only 65.35% of all the 5s."
      ]
    },
    {
      "cell_type": "code",
      "metadata": {
        "id": "zs6J9mr1qD6K",
        "colab_type": "code",
        "outputId": "a260b465-0615-4ab4-fb62-a849b2318ee6",
        "colab": {
          "base_uri": "https://localhost:8080/",
          "height": 288
        }
      },
      "source": [
        "from sklearn.metrics import precision_recall_curve\n",
        "\n",
        "y_scores = cross_val_predict(sgd_clf, X_train, y_train_3, cv=3, method='decision_function')\n",
        "precisions, recalls, thresholds = precision_recall_curve(y_train_3, y_scores)\n",
        "\n",
        "def plot_precision_recall_curve(precisions, recalls, thresholds):\n",
        "  plt.plot(thresholds, precisions[:-1], 'b', label='Precision')\n",
        "  plt.plot(thresholds, recalls[:-1], 'r', label='Recall')\n",
        "  plt.title(\"Precision-Recall vs thresholds\", size=17)\n",
        "  plt.grid()\n",
        "  plt.legend()\n",
        "  plt.show()\n",
        "\n",
        "plot_precision_recall_curve(precisions, recalls, thresholds)"
      ],
      "execution_count": 11,
      "outputs": [
        {
          "output_type": "display_data",
          "data": {
            "image/png": "[encoded data removed]",
            "text/plain": [
              "<Figure size 432x288 with 1 Axes>"
            ]
          },
          "metadata": {
            "tags": []
          }
        }
      ]
    },
    {
      "cell_type": "markdown",
      "metadata": {
        "id": "0Oy4R4_4RLIB",
        "colab_type": "text"
      },
      "source": [
        "### Precision vs Recall curve\n",
        "\n",
        "We must use this curve when the **positive class is rare**, or in those cases where we **worry more about the false positives** than the false negatives. The better the classifier, the value of \"area under the curve\" will be closer to 1."
      ]
    },
    {
      "cell_type": "code",
      "metadata": {
        "id": "VcmGFqC_5yYN",
        "colab_type": "code",
        "outputId": "c991fac3-28bc-428a-f70e-826fd8f3612f",
        "colab": {
          "base_uri": "https://localhost:8080/",
          "height": 302
        }
      },
      "source": [
        "def plot_PR_curve(precisions, recalls):\n",
        "  plt.plot(recalls, precisions, 'b', label='PR curve')\n",
        "  plt.title(\"PR curve\")\n",
        "  plt.ylabel(\"Precision\", size=14)\n",
        "  plt.xlabel(\"Recall\", size=14)\n",
        "  plt.grid()\n",
        "  plt.show()\n",
        "\n",
        "plot_PR_curve(precisions, recalls)"
      ],
      "execution_count": 0,
      "outputs": [
        {
          "output_type": "display_data",
          "data": {
            "image/png": "[encoded data removed]",
            "text/plain": [
              "<Figure size 432x288 with 1 Axes>"
            ]
          },
          "metadata": {
            "tags": []
          }
        }
      ]
    },
    {
      "cell_type": "markdown",
      "metadata": {
        "id": "XwsLhTjSSda8",
        "colab_type": "text"
      },
      "source": [
        "There is a trade-off between precision and recall. We should choose a point just before the sharp drop happens for good performance."
      ]
    },
    {
      "cell_type": "markdown",
      "metadata": {
        "id": "nQ6WvTJQSsD0",
        "colab_type": "text"
      },
      "source": [
        "### ROC curve\n",
        "It stands for Region Operating Characteristics curve. A better curve will have area under the curve closer to 1. The ROC curve is plotted with the true positive rate (tpr) on the y axis and false positive rate(fpr) on x axis.\n",
        "\n",
        "The true positive rate is also called recall or sensitivity. The FPR is the ratio of negative instances that are incorrectly classified as positive."
      ]
    },
    {
      "cell_type": "code",
      "metadata": {
        "id": "tl4gPFg6SZWc",
        "colab_type": "code",
        "outputId": "c717d10f-32c8-45aa-ae4d-711f763c0a60",
        "colab": {
          "base_uri": "https://localhost:8080/",
          "height": 306
        }
      },
      "source": [
        "from sklearn.metrics import roc_curve\n",
        "\n",
        "fpr, tpr, thresholds = roc_curve(y_train_3, y_scores)\n",
        "def plot_ROC_curve(tpr, fpr):\n",
        "  plt.plot(fpr, tpr, 'b', label='PR curve')\n",
        "  plt.title(\"ROC curve\", size=18)\n",
        "  plt.ylabel(\"TPR\", size=14)\n",
        "  plt.xlabel(\"FPR\", size=14)\n",
        "  plt.grid()\n",
        "  plt.show()\n",
        "\n",
        "plot_ROC_curve(tpr, fpr)"
      ],
      "execution_count": 12,
      "outputs": [
        {
          "output_type": "display_data",
          "data": {
            "image/png": "[encoded data removed]",
            "text/plain": [
              "<Figure size 432x288 with 1 Axes>"
            ]
          },
          "metadata": {
            "tags": []
          }
        }
      ]
    },
    {
      "cell_type": "code",
      "metadata": {
        "id": "pvc2Ec3LVN2i",
        "colab_type": "code",
        "outputId": "f9210166-036d-41f2-e3a8-b9f533c2e06b",
        "colab": {
          "base_uri": "https://localhost:8080/",
          "height": 34
        }
      },
      "source": [
        "from sklearn.metrics import roc_auc_score\n",
        "print(\"Area under the ROC curve = \",roc_auc_score(y_train_3, y_scores))"
      ],
      "execution_count": 13,
      "outputs": [
        {
          "output_type": "stream",
          "text": [
            "Area under the ROC curve =  0.9599243001892759\n"
          ],
          "name": "stdout"
        }
      ]
    },
    {
      "cell_type": "markdown",
      "metadata": {
        "id": "TAsGGemdX-BF",
        "colab_type": "text"
      },
      "source": [
        "I want to compare the performance of SGDClassifier with a RandomForestClassifier."
      ]
    },
    {
      "cell_type": "code",
      "metadata": {
        "id": "3Y8EDNYkWIBL",
        "colab_type": "code",
        "outputId": "0b2093b5-25e0-4318-b9e7-da5a902f0a0f",
        "colab": {
          "base_uri": "https://localhost:8080/",
          "height": 286
        }
      },
      "source": [
        "from sklearn.ensemble import RandomForestClassifier\n",
        "forest_clf = RandomForestClassifier(random_state=42)\n",
        "forest_clf.fit(X_train, y_train_3)\n",
        "forest_scores = cross_val_predict(forest_clf, X_train, y_train_3, cv=3, method='predict_proba')\n",
        "forest_scores_usable = forest_scores[:, 1]\n",
        "\n",
        "# To compare the ROC curves.\n",
        "fpr2, tpr2, threshold2 = roc_curve(y_train_3, forest_scores_usable)\n",
        "\n",
        "plt.plot(fpr2, tpr2, 'b-', label='RandomForestClassifier')\n",
        "plt.plot(fpr, tpr, 'r--', label='SGDClassifier')\n",
        "plt.grid()\n",
        "plt.xlabel(\"FPR\", size=14)\n",
        "plt.ylabel(\"TPR\", size=14)\n",
        "plt.legend()\n",
        "plt.show()"
      ],
      "execution_count": 14,
      "outputs": [
        {
          "output_type": "display_data",
          "data": {
            "image/png": "[encoded data removed]",
            "text/plain": [
              "<Figure size 432x288 with 1 Axes>"
            ]
          },
          "metadata": {
            "tags": []
          }
        }
      ]
    },
    {
      "cell_type": "markdown",
      "metadata": {
        "id": "b4llmOo3KLEg",
        "colab_type": "text"
      },
      "source": [
        "### Multi-class classification\n",
        "\n",
        "When we try to use a binary classifier for a multi-class classification problem, scikit-learn detects this and automatically uses the OvA (one-vs-all) approach excpet for SVM, where OvO is preferred, as SVM scales very poorly with the size of the training set."
      ]
    },
    {
      "cell_type": "code",
      "metadata": {
        "id": "R6PtYjxyb1uQ",
        "colab_type": "code",
        "colab": {}
      },
      "source": [
        "sgd_clf.fit(X_train, y_train)\n",
        "# indices is an array of 9 randomly chosen indices.\n",
        "sgd_clf_predictions = sgd_clf.predict(X_train[indices])"
      ],
      "execution_count": 0,
      "outputs": []
    },
    {
      "cell_type": "code",
      "metadata": {
        "id": "2Kze-kVJOkdE",
        "colab_type": "code",
        "outputId": "06a15651-3190-4f8e-d784-20a8ff0882e7",
        "colab": {
          "base_uri": "https://localhost:8080/",
          "height": 297
        }
      },
      "source": [
        "for i in range(len(indices)):\n",
        "  plt.subplot(3, 3, i+1)\n",
        "  plt.imshow(X_train[indices[i]].reshape(28, 28))\n",
        "  plt.xticks([])\n",
        "  plt.yticks([])\n",
        "  plt.title(\"Predicted label = {}\\nActual label = {}\".format(sgd_clf_predictions[i], y_train[indices[i]]))\n",
        "\n",
        "plt.tight_layout()\n",
        "plt.show()"
      ],
      "execution_count": 16,
      "outputs": [
        {
          "output_type": "display_data",
          "data": {
            "image/png": "[encoded data removed]",
            "text/plain": [
              "<Figure size 432x288 with 9 Axes>"
            ]
          },
          "metadata": {
            "tags": []
          }
        }
      ]
    },
    {
      "cell_type": "markdown",
      "metadata": {
        "id": "nISAxJChNLLQ",
        "colab_type": "text"
      },
      "source": [
        "The multi-class classifier assigns a score for each of the 10 classes. It will assign the image to that class which had the highest score."
      ]
    },
    {
      "cell_type": "code",
      "metadata": {
        "id": "gSBeD57UMHJ5",
        "colab_type": "code",
        "outputId": "5a002bff-25ce-4a9d-8aab-22f58179e559",
        "colab": {
          "base_uri": "https://localhost:8080/",
          "height": 85
        }
      },
      "source": [
        "# to find the scores for each class for some random image\n",
        "sgd_clf_scores = sgd_clf.decision_function([X_train[indices[1]]])\n",
        "print(\"Scores for the various classes: \", sgd_clf_scores)\n",
        "print(\"Class predicted : \", sgd_clf.classes_[np.argmax(sgd_clf_scores)])"
      ],
      "execution_count": 0,
      "outputs": [
        {
          "output_type": "stream",
          "text": [
            "Scores for the various classes:  [[-31983.62993086 -35697.57089888 -10062.7448118   -2881.31669927\n",
            "  -16554.98337856  -9537.73755599 -37629.33281569   5837.99758062\n",
            "   -4530.85845964  -3828.2698712 ]]\n",
            "Class predicted :  7\n"
          ],
          "name": "stdout"
        }
      ]
    },
    {
      "cell_type": "code",
      "metadata": {
        "id": "NdOlIRyNP_ij",
        "colab_type": "code",
        "outputId": "1c54cff6-f43c-4b24-bb67-69ade4dcde9c",
        "colab": {
          "base_uri": "https://localhost:8080/",
          "height": 34
        }
      },
      "source": [
        "forest_clf = RandomForestClassifier(random_state=42)\n",
        "forest_clf.fit(X_train, y_train)\n",
        "\n",
        "forest_clf.predict([X_train[indices[1]]])"
      ],
      "execution_count": 0,
      "outputs": [
        {
          "output_type": "execute_result",
          "data": {
            "text/plain": [
              "array([7], dtype=uint8)"
            ]
          },
          "metadata": {
            "tags": []
          },
          "execution_count": 20
        }
      ]
    },
    {
      "cell_type": "code",
      "metadata": {
        "id": "CZLSBvuu9ajm",
        "colab_type": "code",
        "outputId": "f3382540-ec73-4034-faa3-95e23d8ebb38",
        "colab": {
          "base_uri": "https://localhost:8080/",
          "height": 303
        }
      },
      "source": [
        "# X_train[indices[3]] is the image of a '4'. The following are the probability scores for each class.\n",
        "plt.imshow(X_train[indices[3]].reshape(28, 28))\n",
        "plt.xticks([])\n",
        "plt.yticks([])\n",
        "\n",
        "print(\"Probability scores for each class.\")\n",
        "prob_scores = forest_clf.predict_proba([X_train[indices[3]]])\n",
        "print(prob_scores)\n",
        "\n",
        "print(\"The image belongs to class: {}\".format(forest_clf.classes_[np.argmax(prob_scores)]))"
      ],
      "execution_count": 0,
      "outputs": [
        {
          "output_type": "stream",
          "text": [
            "Probability scores for each class.\n",
            "[[0.   0.   0.   0.02 0.96 0.   0.   0.01 0.   0.01]]\n",
            "The image belongs to class: 4\n"
          ],
          "name": "stdout"
        },
        {
          "output_type": "display_data",
          "data": {
            "image/png": "[encoded data removed]",
            "text/plain": [
              "<Figure size 432x288 with 1 Axes>"
            ]
          },
          "metadata": {
            "tags": []
          }
        }
      ]
    },
    {
      "cell_type": "markdown",
      "metadata": {
        "id": "JUv2d4vKFdWD",
        "colab_type": "text"
      },
      "source": [
        "We can now evaluate the models (SGDClassifier)."
      ]
    },
    {
      "cell_type": "code",
      "metadata": {
        "id": "LyM1o0HxKhKx",
        "colab_type": "code",
        "colab": {}
      },
      "source": [
        "from sklearn.model_selection import cross_val_score\n",
        "from sklearn.preprocessing import StandardScaler"
      ],
      "execution_count": 0,
      "outputs": []
    },
    {
      "cell_type": "code",
      "metadata": {
        "id": "GSA88YBaE34c",
        "colab_type": "code",
        "outputId": "dd2e134f-be58-452e-89f3-b0771344c440",
        "colab": {
          "base_uri": "https://localhost:8080/",
          "height": 68
        }
      },
      "source": [
        "sgd_clf  = SGDClassifier(random_state=42)\n",
        "sgd_clf.fit(X_train, y_train)\n",
        "print(\"The classifier has been trained\")\n",
        "sgd_scores = cross_val_score(sgd_clf, X_train, y_train, cv=3, scoring='accuracy')\n",
        "print(\"Scores for the SGD Classifier: \\n\", sgd_scores)"
      ],
      "execution_count": 0,
      "outputs": [
        {
          "output_type": "stream",
          "text": [
            "The classifier has been trained\n",
            "Scores for the SGD Classifier: \n",
            " [0.87365 0.85835 0.8689 ]\n"
          ],
          "name": "stdout"
        }
      ]
    },
    {
      "cell_type": "code",
      "metadata": {
        "id": "YJLte2ICGU5b",
        "colab_type": "code",
        "colab": {
          "base_uri": "https://localhost:8080/",
          "height": 51
        },
        "outputId": "b7ae55c4-ff4b-4965-9a9f-e87c9b899b74"
      },
      "source": [
        "scaler = StandardScaler()\n",
        "X_train_scaled = scaler.fit_transform(X_train.astype(np.float64))\n",
        "forest_scaled_clf = RandomForestClassifier(random_state=42)\n",
        "forest_scaled_clf.fit(X_train_scaled, y_train)\n",
        "forest_scaled_scores = cross_val_score(sgd_scaled_clf, X_train_scaled, y_train, cv=3, scoring='accuracy')\n",
        "print(\"Scores for the SGD Classifier (after scaling): \\n\", forest_scaled_scores)"
      ],
      "execution_count": 20,
      "outputs": [
        {
          "output_type": "stream",
          "text": [
            "Scores for the SGD Classifier (after scaling): \n",
            " [0.8983 0.891  0.9018]\n"
          ],
          "name": "stdout"
        }
      ]
    },
    {
      "cell_type": "markdown",
      "metadata": {
        "id": "g3ej_USO0i0E",
        "colab_type": "text"
      },
      "source": [
        "## Error Analysis"
      ]
    },
    {
      "cell_type": "code",
      "metadata": {
        "id": "8_lOYK4qGxH0",
        "colab_type": "code",
        "outputId": "3b1f4c76-80dd-48a0-a862-be238f426095",
        "colab": {
          "base_uri": "https://localhost:8080/",
          "height": 221
        }
      },
      "source": [
        "from sklearn.metrics import confusion_matrix\n",
        "\n",
        "forest_clf = RandomForestClassifier(random_state=42)\n",
        "forest_clf.fit(X_train_scaled, y_train)\n",
        "print(\"Model fit\")\n",
        "y_train_pred = forest_clf.predict(X_train_scaled)\n",
        "print(\"Predictions done\")\n",
        "#y_train_pred = cross_val_predict(sgd_clf, X_train_scaled, y_train, cv=3)\n",
        "conf_matrix = confusion_matrix(y_train, y_train_pred)\n",
        "print(conf_matrix)"
      ],
      "execution_count": 23,
      "outputs": [
        {
          "output_type": "stream",
          "text": [
            "Model fit\n",
            "Predictions done\n",
            "[[5923    0    0    0    0    0    0    0    0    0]\n",
            " [   0 6742    0    0    0    0    0    0    0    0]\n",
            " [   0    0 5958    0    0    0    0    0    0    0]\n",
            " [   0    0    0 6131    0    0    0    0    0    0]\n",
            " [   0    0    0    0 5842    0    0    0    0    0]\n",
            " [   0    0    0    0    0 5421    0    0    0    0]\n",
            " [   0    0    0    0    0    0 5918    0    0    0]\n",
            " [   0    0    0    0    0    0    0 6265    0    0]\n",
            " [   0    0    0    0    0    0    0    0 5851    0]\n",
            " [   0    0    0    0    0    0    0    0    0 5949]]\n"
          ],
          "name": "stdout"
        }
      ]
    },
    {
      "cell_type": "markdown",
      "metadata": {
        "id": "ZXsO66YdZzkm",
        "colab_type": "text"
      },
      "source": [
        "The above confusion matrix is for a RandomForestClassifier. In order to understand the matrix better, we should use a SGDClassifier as we will then get some insight into the possible errors too."
      ]
    },
    {
      "cell_type": "code",
      "metadata": {
        "id": "8AtgsrwDaSHW",
        "colab_type": "code",
        "colab": {
          "base_uri": "https://localhost:8080/",
          "height": 238
        },
        "outputId": "f144b19d-0a03-44e6-ff3a-076614ddb644"
      },
      "source": [
        "sgd_clf = SGDClassifier(random_state=42)\n",
        "sgd_clf.fit(X_train_scaled, y_train)\n",
        "print(\"SGDClassifier Model fit\")\n",
        "y_train_pred = sgd_clf.predict(X_train_scaled)\n",
        "print(\"Predictions done\")\n",
        "#y_train_pred = cross_val_predict(sgd_clf, X_train_scaled, y_train, cv=3)\n",
        "conf_matrix = confusion_matrix(y_train, y_train_pred)\n",
        "print(\"Confusion matrix: \")\n",
        "print(conf_matrix)"
      ],
      "execution_count": 24,
      "outputs": [
        {
          "output_type": "stream",
          "text": [
            "SGDClassifier Model fit\n",
            "Predictions done\n",
            "Confusion matrix: \n",
            "[[5584    0   11    6    6   24   27    3  262    0]\n",
            " [   0 6419   39   14    3   41    4    4  214    4]\n",
            " [  17   21 5287   67   59   19   48   34  402    4]\n",
            " [  20   13   95 5238    0  150   21   36  505   53]\n",
            " [   9   12   29    8 5245    6   26   13  384  110]\n",
            " [  21   15   21  127   45 4469   66   11  594   52]\n",
            " [  25   15   37    2   31   73 5566    6  163    0]\n",
            " [  18    9   43   13   37   12    4 5724  250  155]\n",
            " [  12   52   33   83    2  101   24    4 5509   31]\n",
            " [  19   18   25   51  102   25    1  147  517 5044]]\n"
          ],
          "name": "stdout"
        }
      ]
    },
    {
      "cell_type": "markdown",
      "metadata": {
        "id": "zdwyGDj4PXHH",
        "colab_type": "text"
      },
      "source": [
        "Pictorial representation of the confusion matrix"
      ]
    },
    {
      "cell_type": "code",
      "metadata": {
        "id": "ps0fMhghPc05",
        "colab_type": "code",
        "colab": {
          "base_uri": "https://localhost:8080/",
          "height": 278
        },
        "outputId": "ff59079a-4bf8-46ca-d2ba-8792873e7f62"
      },
      "source": [
        "plt.matshow(conf_matrix, cmap = plt.cm.gray)\n",
        "plt.show()"
      ],
      "execution_count": 25,
      "outputs": [
        {
          "output_type": "display_data",
          "data": {
            "image/png": "[encoded data removed]",
            "text/plain": [
              "<Figure size 288x288 with 1 Axes>"
            ]
          },
          "metadata": {
            "tags": []
          }
        }
      ]
    },
    {
      "cell_type": "markdown",
      "metadata": {
        "id": "Ct93Vx7ScfI8",
        "colab_type": "text"
      },
      "source": [
        "The brightness of each cell in the above plot corresponds to the value in the previously printed confusion matrix. The diagonal cells represent true positives, that is, where the predicted class matches with the actual class. Since we are interested in the errors, I am going to completely darken the diagonal. Also, it is better to compare the number of errors relative to the total number of examples of that class."
      ]
    },
    {
      "cell_type": "code",
      "metadata": {
        "id": "0HSjL19qcYUE",
        "colab_type": "code",
        "colab": {
          "base_uri": "https://localhost:8080/",
          "height": 278
        },
        "outputId": "c05eea95-4437-40fb-f3e9-5e7993b054cd"
      },
      "source": [
        "row_sums = conf_matrix.sum(axis=1, keepdims=True)\n",
        "norm_conf_matrix = conf_matrix/row_sums\n",
        "\n",
        "np.fill_diagonal(norm_conf_matrix, 0)\n",
        "plt.matshow(norm_conf_matrix, cmap = plt.cm.gray)\n",
        "plt.show()"
      ],
      "execution_count": 26,
      "outputs": [
        {
          "output_type": "display_data",
          "data": {
            "image/png": "[encoded data removed]",
            "text/plain": [
              "<Figure size 288x288 with 1 Axes>"
            ]
          },
          "metadata": {
            "tags": []
          }
        }
      ]
    },
    {
      "cell_type": "markdown",
      "metadata": {
        "id": "0odDM0aldq7N",
        "colab_type": "text"
      },
      "source": [
        "The column for \"8\" is quite bright. However, the row for \"8\" is much better (in terms of the errors). The column represents the predicted class. So, in many cases, where the classifier predicts class \"8\", the number actually belongs to a different class. However, most of the examples of class \"8\", are being classified correctly. This is why the row corresponding to class \"8\" is dark (few errors).\n",
        "\n",
        "Another point to note is that the model gets easily confused between class \"3\" and class \"5\"."
      ]
    },
    {
      "cell_type": "markdown",
      "metadata": {
        "id": "ANNvfJ3nfIrF",
        "colab_type": "text"
      },
      "source": [
        "### Multi-label Classification\n",
        "\n",
        "I will now try to predict two labels for a given training example. One will tell us whether the number is even or not, and the other will tell us if the number is \"small\". A \"small\" number is either 1, 2 or 3."
      ]
    },
    {
      "cell_type": "code",
      "metadata": {
        "id": "ZvYNuB46dnlt",
        "colab_type": "code",
        "colab": {
          "base_uri": "https://localhost:8080/",
          "height": 51
        },
        "outputId": "efe4912d-e4be-444b-d16a-cc57ac6c3909"
      },
      "source": [
        "from sklearn.neighbors import KNeighborsClassifier\n",
        "y_train_small = (y_train <= 3)\n",
        "y_train_even = (y_train%2 == 0)\n",
        "\n",
        "y_train_multilabel = np.c_[y_train_even, y_train_small]\n",
        "\n",
        "knn_clf = KNeighborsClassifier()\n",
        "\n",
        "knn_clf.fit(X_train_scaled, y_train_multilabel)\n",
        "\n",
        "print(knn_clf.predict([X_train_scaled[indices[1]]]))# The number is a 7. Expected output = [False, False]\n",
        "print(knn_clf.predict([X_train_scaled[indices[3]]]))# The number is a 4. Expected output = [True, False]"
      ],
      "execution_count": 32,
      "outputs": [
        {
          "output_type": "stream",
          "text": [
            "[[False False]]\n",
            "[[ True False]]\n"
          ],
          "name": "stdout"
        }
      ]
    },
    {
      "cell_type": "code",
      "metadata": {
        "id": "QAOVQ0O5fHPs",
        "colab_type": "code",
        "colab": {}
      },
      "source": [
        ""
      ],
      "execution_count": 0,
      "outputs": []
    },
    {
      "cell_type": "code",
      "metadata": {
        "id": "ZHXZyNJQjJ1M",
        "colab_type": "code",
        "colab": {}
      },
      "source": [
        ""
      ],
      "execution_count": 0,
      "outputs": []
    }
  ]
}